{
 "cells": [
  {
   "cell_type": "markdown",
   "id": "76c99088",
   "metadata": {
    "papermill": {
     "duration": 0.011101,
     "end_time": "2024-07-02T16:49:05.647078",
     "exception": false,
     "start_time": "2024-07-02T16:49:05.635977",
     "status": "completed"
    },
    "tags": []
   },
   "source": [
    "# Import libraries & uploading data"
   ]
  },
  {
   "cell_type": "code",
   "execution_count": 1,
   "id": "9bfe77e3",
   "metadata": {
    "execution": {
     "iopub.execute_input": "2024-07-02T16:49:05.670017Z",
     "iopub.status.busy": "2024-07-02T16:49:05.669549Z",
     "iopub.status.idle": "2024-07-02T16:49:08.664353Z",
     "shell.execute_reply": "2024-07-02T16:49:08.662896Z"
    },
    "papermill": {
     "duration": 3.009971,
     "end_time": "2024-07-02T16:49:08.667492",
     "exception": false,
     "start_time": "2024-07-02T16:49:05.657521",
     "status": "completed"
    },
    "tags": []
   },
   "outputs": [],
   "source": [
    "import pandas as pd\n",
    "import numpy as np\n",
    "import matplotlib.pyplot as plt\n",
    "import seaborn as sns \n",
    "from sklearn.model_selection import train_test_split\n",
    "from sklearn.preprocessing import StandardScaler\n",
    "from sklearn.linear_model import LogisticRegression\n",
    "from sklearn.ensemble import RandomForestClassifier\n",
    "from sklearn.metrics import accuracy_score\n",
    "%matplotlib inline"
   ]
  },
  {
   "cell_type": "code",
   "execution_count": 2,
   "id": "e8346669",
   "metadata": {
    "execution": {
     "iopub.execute_input": "2024-07-02T16:49:08.690818Z",
     "iopub.status.busy": "2024-07-02T16:49:08.690102Z",
     "iopub.status.idle": "2024-07-02T16:49:08.750103Z",
     "shell.execute_reply": "2024-07-02T16:49:08.748786Z"
    },
    "papermill": {
     "duration": 0.074942,
     "end_time": "2024-07-02T16:49:08.753041",
     "exception": false,
     "start_time": "2024-07-02T16:49:08.678099",
     "status": "completed"
    },
    "tags": []
   },
   "outputs": [
    {
     "data": {
      "text/html": [
       "<div>\n",
       "<style scoped>\n",
       "    .dataframe tbody tr th:only-of-type {\n",
       "        vertical-align: middle;\n",
       "    }\n",
       "\n",
       "    .dataframe tbody tr th {\n",
       "        vertical-align: top;\n",
       "    }\n",
       "\n",
       "    .dataframe thead th {\n",
       "        text-align: right;\n",
       "    }\n",
       "</style>\n",
       "<table border=\"1\" class=\"dataframe\">\n",
       "  <thead>\n",
       "    <tr style=\"text-align: right;\">\n",
       "      <th></th>\n",
       "      <th>Pregnancies</th>\n",
       "      <th>Glucose</th>\n",
       "      <th>BloodPressure</th>\n",
       "      <th>SkinThickness</th>\n",
       "      <th>Insulin</th>\n",
       "      <th>BMI</th>\n",
       "      <th>DiabetesPedigreeFunction</th>\n",
       "      <th>Age</th>\n",
       "      <th>Outcome</th>\n",
       "    </tr>\n",
       "  </thead>\n",
       "  <tbody>\n",
       "    <tr>\n",
       "      <th>0</th>\n",
       "      <td>6</td>\n",
       "      <td>148</td>\n",
       "      <td>72</td>\n",
       "      <td>35</td>\n",
       "      <td>0</td>\n",
       "      <td>33.6</td>\n",
       "      <td>0.627</td>\n",
       "      <td>50</td>\n",
       "      <td>1</td>\n",
       "    </tr>\n",
       "    <tr>\n",
       "      <th>1</th>\n",
       "      <td>1</td>\n",
       "      <td>85</td>\n",
       "      <td>66</td>\n",
       "      <td>29</td>\n",
       "      <td>0</td>\n",
       "      <td>26.6</td>\n",
       "      <td>0.351</td>\n",
       "      <td>31</td>\n",
       "      <td>0</td>\n",
       "    </tr>\n",
       "    <tr>\n",
       "      <th>2</th>\n",
       "      <td>8</td>\n",
       "      <td>183</td>\n",
       "      <td>64</td>\n",
       "      <td>0</td>\n",
       "      <td>0</td>\n",
       "      <td>23.3</td>\n",
       "      <td>0.672</td>\n",
       "      <td>32</td>\n",
       "      <td>1</td>\n",
       "    </tr>\n",
       "    <tr>\n",
       "      <th>3</th>\n",
       "      <td>1</td>\n",
       "      <td>89</td>\n",
       "      <td>66</td>\n",
       "      <td>23</td>\n",
       "      <td>94</td>\n",
       "      <td>28.1</td>\n",
       "      <td>0.167</td>\n",
       "      <td>21</td>\n",
       "      <td>0</td>\n",
       "    </tr>\n",
       "    <tr>\n",
       "      <th>4</th>\n",
       "      <td>0</td>\n",
       "      <td>137</td>\n",
       "      <td>40</td>\n",
       "      <td>35</td>\n",
       "      <td>168</td>\n",
       "      <td>43.1</td>\n",
       "      <td>2.288</td>\n",
       "      <td>33</td>\n",
       "      <td>1</td>\n",
       "    </tr>\n",
       "    <tr>\n",
       "      <th>...</th>\n",
       "      <td>...</td>\n",
       "      <td>...</td>\n",
       "      <td>...</td>\n",
       "      <td>...</td>\n",
       "      <td>...</td>\n",
       "      <td>...</td>\n",
       "      <td>...</td>\n",
       "      <td>...</td>\n",
       "      <td>...</td>\n",
       "    </tr>\n",
       "    <tr>\n",
       "      <th>763</th>\n",
       "      <td>10</td>\n",
       "      <td>101</td>\n",
       "      <td>76</td>\n",
       "      <td>48</td>\n",
       "      <td>180</td>\n",
       "      <td>32.9</td>\n",
       "      <td>0.171</td>\n",
       "      <td>63</td>\n",
       "      <td>0</td>\n",
       "    </tr>\n",
       "    <tr>\n",
       "      <th>764</th>\n",
       "      <td>2</td>\n",
       "      <td>122</td>\n",
       "      <td>70</td>\n",
       "      <td>27</td>\n",
       "      <td>0</td>\n",
       "      <td>36.8</td>\n",
       "      <td>0.340</td>\n",
       "      <td>27</td>\n",
       "      <td>0</td>\n",
       "    </tr>\n",
       "    <tr>\n",
       "      <th>765</th>\n",
       "      <td>5</td>\n",
       "      <td>121</td>\n",
       "      <td>72</td>\n",
       "      <td>23</td>\n",
       "      <td>112</td>\n",
       "      <td>26.2</td>\n",
       "      <td>0.245</td>\n",
       "      <td>30</td>\n",
       "      <td>0</td>\n",
       "    </tr>\n",
       "    <tr>\n",
       "      <th>766</th>\n",
       "      <td>1</td>\n",
       "      <td>126</td>\n",
       "      <td>60</td>\n",
       "      <td>0</td>\n",
       "      <td>0</td>\n",
       "      <td>30.1</td>\n",
       "      <td>0.349</td>\n",
       "      <td>47</td>\n",
       "      <td>1</td>\n",
       "    </tr>\n",
       "    <tr>\n",
       "      <th>767</th>\n",
       "      <td>1</td>\n",
       "      <td>93</td>\n",
       "      <td>70</td>\n",
       "      <td>31</td>\n",
       "      <td>0</td>\n",
       "      <td>30.4</td>\n",
       "      <td>0.315</td>\n",
       "      <td>23</td>\n",
       "      <td>0</td>\n",
       "    </tr>\n",
       "  </tbody>\n",
       "</table>\n",
       "<p>768 rows × 9 columns</p>\n",
       "</div>"
      ],
      "text/plain": [
       "     Pregnancies  Glucose  BloodPressure  SkinThickness  Insulin   BMI  \\\n",
       "0              6      148             72             35        0  33.6   \n",
       "1              1       85             66             29        0  26.6   \n",
       "2              8      183             64              0        0  23.3   \n",
       "3              1       89             66             23       94  28.1   \n",
       "4              0      137             40             35      168  43.1   \n",
       "..           ...      ...            ...            ...      ...   ...   \n",
       "763           10      101             76             48      180  32.9   \n",
       "764            2      122             70             27        0  36.8   \n",
       "765            5      121             72             23      112  26.2   \n",
       "766            1      126             60              0        0  30.1   \n",
       "767            1       93             70             31        0  30.4   \n",
       "\n",
       "     DiabetesPedigreeFunction  Age  Outcome  \n",
       "0                       0.627   50        1  \n",
       "1                       0.351   31        0  \n",
       "2                       0.672   32        1  \n",
       "3                       0.167   21        0  \n",
       "4                       2.288   33        1  \n",
       "..                        ...  ...      ...  \n",
       "763                     0.171   63        0  \n",
       "764                     0.340   27        0  \n",
       "765                     0.245   30        0  \n",
       "766                     0.349   47        1  \n",
       "767                     0.315   23        0  \n",
       "\n",
       "[768 rows x 9 columns]"
      ]
     },
     "execution_count": 2,
     "metadata": {},
     "output_type": "execute_result"
    }
   ],
   "source": [
    "df=pd.read_csv('/kaggle/input/pima-indians-diabetes-database/diabetes.csv')\n",
    "df"
   ]
  },
  {
   "cell_type": "markdown",
   "id": "50f35214",
   "metadata": {
    "papermill": {
     "duration": 0.01101,
     "end_time": "2024-07-02T16:49:08.774971",
     "exception": false,
     "start_time": "2024-07-02T16:49:08.763961",
     "status": "completed"
    },
    "tags": []
   },
   "source": [
    "# Exploring the data"
   ]
  },
  {
   "cell_type": "code",
   "execution_count": 3,
   "id": "c3e12c3c",
   "metadata": {
    "execution": {
     "iopub.execute_input": "2024-07-02T16:49:08.798672Z",
     "iopub.status.busy": "2024-07-02T16:49:08.798272Z",
     "iopub.status.idle": "2024-07-02T16:49:08.822406Z",
     "shell.execute_reply": "2024-07-02T16:49:08.820720Z"
    },
    "papermill": {
     "duration": 0.039782,
     "end_time": "2024-07-02T16:49:08.825789",
     "exception": false,
     "start_time": "2024-07-02T16:49:08.786007",
     "status": "completed"
    },
    "tags": []
   },
   "outputs": [
    {
     "name": "stdout",
     "output_type": "stream",
     "text": [
      "<class 'pandas.core.frame.DataFrame'>\n",
      "RangeIndex: 768 entries, 0 to 767\n",
      "Data columns (total 9 columns):\n",
      " #   Column                    Non-Null Count  Dtype  \n",
      "---  ------                    --------------  -----  \n",
      " 0   Pregnancies               768 non-null    int64  \n",
      " 1   Glucose                   768 non-null    int64  \n",
      " 2   BloodPressure             768 non-null    int64  \n",
      " 3   SkinThickness             768 non-null    int64  \n",
      " 4   Insulin                   768 non-null    int64  \n",
      " 5   BMI                       768 non-null    float64\n",
      " 6   DiabetesPedigreeFunction  768 non-null    float64\n",
      " 7   Age                       768 non-null    int64  \n",
      " 8   Outcome                   768 non-null    int64  \n",
      "dtypes: float64(2), int64(7)\n",
      "memory usage: 54.1 KB\n"
     ]
    }
   ],
   "source": [
    "df.info()"
   ]
  },
  {
   "cell_type": "code",
   "execution_count": 4,
   "id": "d04c8de5",
   "metadata": {
    "execution": {
     "iopub.execute_input": "2024-07-02T16:49:08.851825Z",
     "iopub.status.busy": "2024-07-02T16:49:08.851387Z",
     "iopub.status.idle": "2024-07-02T16:49:08.894368Z",
     "shell.execute_reply": "2024-07-02T16:49:08.893130Z"
    },
    "papermill": {
     "duration": 0.058614,
     "end_time": "2024-07-02T16:49:08.897134",
     "exception": false,
     "start_time": "2024-07-02T16:49:08.838520",
     "status": "completed"
    },
    "tags": []
   },
   "outputs": [
    {
     "data": {
      "text/html": [
       "<div>\n",
       "<style scoped>\n",
       "    .dataframe tbody tr th:only-of-type {\n",
       "        vertical-align: middle;\n",
       "    }\n",
       "\n",
       "    .dataframe tbody tr th {\n",
       "        vertical-align: top;\n",
       "    }\n",
       "\n",
       "    .dataframe thead th {\n",
       "        text-align: right;\n",
       "    }\n",
       "</style>\n",
       "<table border=\"1\" class=\"dataframe\">\n",
       "  <thead>\n",
       "    <tr style=\"text-align: right;\">\n",
       "      <th></th>\n",
       "      <th>Pregnancies</th>\n",
       "      <th>Glucose</th>\n",
       "      <th>BloodPressure</th>\n",
       "      <th>SkinThickness</th>\n",
       "      <th>Insulin</th>\n",
       "      <th>BMI</th>\n",
       "      <th>DiabetesPedigreeFunction</th>\n",
       "      <th>Age</th>\n",
       "      <th>Outcome</th>\n",
       "    </tr>\n",
       "  </thead>\n",
       "  <tbody>\n",
       "    <tr>\n",
       "      <th>count</th>\n",
       "      <td>768.000000</td>\n",
       "      <td>768.000000</td>\n",
       "      <td>768.000000</td>\n",
       "      <td>768.000000</td>\n",
       "      <td>768.000000</td>\n",
       "      <td>768.000000</td>\n",
       "      <td>768.000000</td>\n",
       "      <td>768.000000</td>\n",
       "      <td>768.000000</td>\n",
       "    </tr>\n",
       "    <tr>\n",
       "      <th>mean</th>\n",
       "      <td>3.845052</td>\n",
       "      <td>120.894531</td>\n",
       "      <td>69.105469</td>\n",
       "      <td>20.536458</td>\n",
       "      <td>79.799479</td>\n",
       "      <td>31.992578</td>\n",
       "      <td>0.471876</td>\n",
       "      <td>33.240885</td>\n",
       "      <td>0.348958</td>\n",
       "    </tr>\n",
       "    <tr>\n",
       "      <th>std</th>\n",
       "      <td>3.369578</td>\n",
       "      <td>31.972618</td>\n",
       "      <td>19.355807</td>\n",
       "      <td>15.952218</td>\n",
       "      <td>115.244002</td>\n",
       "      <td>7.884160</td>\n",
       "      <td>0.331329</td>\n",
       "      <td>11.760232</td>\n",
       "      <td>0.476951</td>\n",
       "    </tr>\n",
       "    <tr>\n",
       "      <th>min</th>\n",
       "      <td>0.000000</td>\n",
       "      <td>0.000000</td>\n",
       "      <td>0.000000</td>\n",
       "      <td>0.000000</td>\n",
       "      <td>0.000000</td>\n",
       "      <td>0.000000</td>\n",
       "      <td>0.078000</td>\n",
       "      <td>21.000000</td>\n",
       "      <td>0.000000</td>\n",
       "    </tr>\n",
       "    <tr>\n",
       "      <th>25%</th>\n",
       "      <td>1.000000</td>\n",
       "      <td>99.000000</td>\n",
       "      <td>62.000000</td>\n",
       "      <td>0.000000</td>\n",
       "      <td>0.000000</td>\n",
       "      <td>27.300000</td>\n",
       "      <td>0.243750</td>\n",
       "      <td>24.000000</td>\n",
       "      <td>0.000000</td>\n",
       "    </tr>\n",
       "    <tr>\n",
       "      <th>50%</th>\n",
       "      <td>3.000000</td>\n",
       "      <td>117.000000</td>\n",
       "      <td>72.000000</td>\n",
       "      <td>23.000000</td>\n",
       "      <td>30.500000</td>\n",
       "      <td>32.000000</td>\n",
       "      <td>0.372500</td>\n",
       "      <td>29.000000</td>\n",
       "      <td>0.000000</td>\n",
       "    </tr>\n",
       "    <tr>\n",
       "      <th>75%</th>\n",
       "      <td>6.000000</td>\n",
       "      <td>140.250000</td>\n",
       "      <td>80.000000</td>\n",
       "      <td>32.000000</td>\n",
       "      <td>127.250000</td>\n",
       "      <td>36.600000</td>\n",
       "      <td>0.626250</td>\n",
       "      <td>41.000000</td>\n",
       "      <td>1.000000</td>\n",
       "    </tr>\n",
       "    <tr>\n",
       "      <th>max</th>\n",
       "      <td>17.000000</td>\n",
       "      <td>199.000000</td>\n",
       "      <td>122.000000</td>\n",
       "      <td>99.000000</td>\n",
       "      <td>846.000000</td>\n",
       "      <td>67.100000</td>\n",
       "      <td>2.420000</td>\n",
       "      <td>81.000000</td>\n",
       "      <td>1.000000</td>\n",
       "    </tr>\n",
       "  </tbody>\n",
       "</table>\n",
       "</div>"
      ],
      "text/plain": [
       "       Pregnancies     Glucose  BloodPressure  SkinThickness     Insulin  \\\n",
       "count   768.000000  768.000000     768.000000     768.000000  768.000000   \n",
       "mean      3.845052  120.894531      69.105469      20.536458   79.799479   \n",
       "std       3.369578   31.972618      19.355807      15.952218  115.244002   \n",
       "min       0.000000    0.000000       0.000000       0.000000    0.000000   \n",
       "25%       1.000000   99.000000      62.000000       0.000000    0.000000   \n",
       "50%       3.000000  117.000000      72.000000      23.000000   30.500000   \n",
       "75%       6.000000  140.250000      80.000000      32.000000  127.250000   \n",
       "max      17.000000  199.000000     122.000000      99.000000  846.000000   \n",
       "\n",
       "              BMI  DiabetesPedigreeFunction         Age     Outcome  \n",
       "count  768.000000                768.000000  768.000000  768.000000  \n",
       "mean    31.992578                  0.471876   33.240885    0.348958  \n",
       "std      7.884160                  0.331329   11.760232    0.476951  \n",
       "min      0.000000                  0.078000   21.000000    0.000000  \n",
       "25%     27.300000                  0.243750   24.000000    0.000000  \n",
       "50%     32.000000                  0.372500   29.000000    0.000000  \n",
       "75%     36.600000                  0.626250   41.000000    1.000000  \n",
       "max     67.100000                  2.420000   81.000000    1.000000  "
      ]
     },
     "execution_count": 4,
     "metadata": {},
     "output_type": "execute_result"
    }
   ],
   "source": [
    "df.describe()"
   ]
  },
  {
   "cell_type": "code",
   "execution_count": 5,
   "id": "35dfb21d",
   "metadata": {
    "execution": {
     "iopub.execute_input": "2024-07-02T16:49:08.922489Z",
     "iopub.status.busy": "2024-07-02T16:49:08.922032Z",
     "iopub.status.idle": "2024-07-02T16:49:08.933222Z",
     "shell.execute_reply": "2024-07-02T16:49:08.931935Z"
    },
    "papermill": {
     "duration": 0.027196,
     "end_time": "2024-07-02T16:49:08.936084",
     "exception": false,
     "start_time": "2024-07-02T16:49:08.908888",
     "status": "completed"
    },
    "tags": []
   },
   "outputs": [
    {
     "data": {
      "text/plain": [
       "0"
      ]
     },
     "execution_count": 5,
     "metadata": {},
     "output_type": "execute_result"
    }
   ],
   "source": [
    "df.duplicated().sum()"
   ]
  },
  {
   "cell_type": "code",
   "execution_count": 6,
   "id": "5d7bf08e",
   "metadata": {
    "execution": {
     "iopub.execute_input": "2024-07-02T16:49:08.961079Z",
     "iopub.status.busy": "2024-07-02T16:49:08.960620Z",
     "iopub.status.idle": "2024-07-02T16:49:08.985382Z",
     "shell.execute_reply": "2024-07-02T16:49:08.984101Z"
    },
    "papermill": {
     "duration": 0.040531,
     "end_time": "2024-07-02T16:49:08.988185",
     "exception": false,
     "start_time": "2024-07-02T16:49:08.947654",
     "status": "completed"
    },
    "tags": []
   },
   "outputs": [
    {
     "data": {
      "text/html": [
       "<div>\n",
       "<style scoped>\n",
       "    .dataframe tbody tr th:only-of-type {\n",
       "        vertical-align: middle;\n",
       "    }\n",
       "\n",
       "    .dataframe tbody tr th {\n",
       "        vertical-align: top;\n",
       "    }\n",
       "\n",
       "    .dataframe thead th {\n",
       "        text-align: right;\n",
       "    }\n",
       "</style>\n",
       "<table border=\"1\" class=\"dataframe\">\n",
       "  <thead>\n",
       "    <tr style=\"text-align: right;\">\n",
       "      <th></th>\n",
       "      <th>Null count</th>\n",
       "      <th>Null percentage</th>\n",
       "      <th>n_unique values</th>\n",
       "      <th>data_type</th>\n",
       "    </tr>\n",
       "  </thead>\n",
       "  <tbody>\n",
       "    <tr>\n",
       "      <th>Pregnancies</th>\n",
       "      <td>0</td>\n",
       "      <td>0.0</td>\n",
       "      <td>17</td>\n",
       "      <td>int64</td>\n",
       "    </tr>\n",
       "    <tr>\n",
       "      <th>Glucose</th>\n",
       "      <td>0</td>\n",
       "      <td>0.0</td>\n",
       "      <td>136</td>\n",
       "      <td>int64</td>\n",
       "    </tr>\n",
       "    <tr>\n",
       "      <th>BloodPressure</th>\n",
       "      <td>0</td>\n",
       "      <td>0.0</td>\n",
       "      <td>47</td>\n",
       "      <td>int64</td>\n",
       "    </tr>\n",
       "    <tr>\n",
       "      <th>SkinThickness</th>\n",
       "      <td>0</td>\n",
       "      <td>0.0</td>\n",
       "      <td>51</td>\n",
       "      <td>int64</td>\n",
       "    </tr>\n",
       "    <tr>\n",
       "      <th>Insulin</th>\n",
       "      <td>0</td>\n",
       "      <td>0.0</td>\n",
       "      <td>186</td>\n",
       "      <td>int64</td>\n",
       "    </tr>\n",
       "    <tr>\n",
       "      <th>BMI</th>\n",
       "      <td>0</td>\n",
       "      <td>0.0</td>\n",
       "      <td>248</td>\n",
       "      <td>float64</td>\n",
       "    </tr>\n",
       "    <tr>\n",
       "      <th>DiabetesPedigreeFunction</th>\n",
       "      <td>0</td>\n",
       "      <td>0.0</td>\n",
       "      <td>517</td>\n",
       "      <td>float64</td>\n",
       "    </tr>\n",
       "    <tr>\n",
       "      <th>Age</th>\n",
       "      <td>0</td>\n",
       "      <td>0.0</td>\n",
       "      <td>52</td>\n",
       "      <td>int64</td>\n",
       "    </tr>\n",
       "    <tr>\n",
       "      <th>Outcome</th>\n",
       "      <td>0</td>\n",
       "      <td>0.0</td>\n",
       "      <td>2</td>\n",
       "      <td>int64</td>\n",
       "    </tr>\n",
       "  </tbody>\n",
       "</table>\n",
       "</div>"
      ],
      "text/plain": [
       "                          Null count  Null percentage  n_unique values  \\\n",
       "Pregnancies                        0              0.0               17   \n",
       "Glucose                            0              0.0              136   \n",
       "BloodPressure                      0              0.0               47   \n",
       "SkinThickness                      0              0.0               51   \n",
       "Insulin                            0              0.0              186   \n",
       "BMI                                0              0.0              248   \n",
       "DiabetesPedigreeFunction           0              0.0              517   \n",
       "Age                                0              0.0               52   \n",
       "Outcome                            0              0.0                2   \n",
       "\n",
       "                         data_type  \n",
       "Pregnancies                  int64  \n",
       "Glucose                      int64  \n",
       "BloodPressure                int64  \n",
       "SkinThickness                int64  \n",
       "Insulin                      int64  \n",
       "BMI                        float64  \n",
       "DiabetesPedigreeFunction   float64  \n",
       "Age                          int64  \n",
       "Outcome                      int64  "
      ]
     },
     "execution_count": 6,
     "metadata": {},
     "output_type": "execute_result"
    }
   ],
   "source": [
    "nans=df.isna().sum().sort_values(ascending=False)\n",
    "pct=nans*100/df.shape[0]\n",
    "uniques=df.nunique()\n",
    "noted=pd.concat([nans,pct,uniques,df.dtypes],axis=1)\n",
    "noted.columns=['Null count','Null percentage','n_unique values','data_type']\n",
    "noted"
   ]
  },
  {
   "cell_type": "code",
   "execution_count": 7,
   "id": "29393492",
   "metadata": {
    "execution": {
     "iopub.execute_input": "2024-07-02T16:49:09.014528Z",
     "iopub.status.busy": "2024-07-02T16:49:09.013153Z",
     "iopub.status.idle": "2024-07-02T16:49:10.680794Z",
     "shell.execute_reply": "2024-07-02T16:49:10.679195Z"
    },
    "papermill": {
     "duration": 1.684797,
     "end_time": "2024-07-02T16:49:10.684601",
     "exception": false,
     "start_time": "2024-07-02T16:49:08.999804",
     "status": "completed"
    },
    "scrolled": true,
    "tags": []
   },
   "outputs": [
    {
     "data": {
      "image/png": "[encoded data removed]",
      "text/plain": [
       "<Figure size 1800x2500 with 9 Axes>"
      ]
     },
     "metadata": {},
     "output_type": "display_data"
    }
   ],
   "source": [
    "fig, ax = plt.subplots(3, 3,figsize=(18,25))\n",
    "x=df.columns\n",
    "idx=0\n",
    "for i in range(3):\n",
    "    for j in range(3):\n",
    "        sns.boxplot(ax=ax[i, j], x=df[x[idx]]\n",
    "                    ,color=(0.48366628618847957, 0.1286467902201389, 0.31317188565991266))\n",
    "        ax[i, j].set_title(x[idx])\n",
    "        idx=idx+1"
   ]
  },
  {
   "cell_type": "markdown",
   "id": "32713975",
   "metadata": {
    "papermill": {
     "duration": 0.013525,
     "end_time": "2024-07-02T16:49:10.712224",
     "exception": false,
     "start_time": "2024-07-02T16:49:10.698699",
     "status": "completed"
    },
    "tags": []
   },
   "source": [
    "> features are on different ranges so it requires scaling"
   ]
  },
  {
   "cell_type": "code",
   "execution_count": 8,
   "id": "ddc3405a",
   "metadata": {
    "execution": {
     "iopub.execute_input": "2024-07-02T16:49:10.742155Z",
     "iopub.status.busy": "2024-07-02T16:49:10.741070Z",
     "iopub.status.idle": "2024-07-02T16:49:11.174454Z",
     "shell.execute_reply": "2024-07-02T16:49:11.172779Z"
    },
    "papermill": {
     "duration": 0.452271,
     "end_time": "2024-07-02T16:49:11.177810",
     "exception": false,
     "start_time": "2024-07-02T16:49:10.725539",
     "status": "completed"
    },
    "tags": []
   },
   "outputs": [
    {
     "data": {
      "image/png": "[encoded data removed]",
      "text/plain": [
       "<Figure size 640x480 with 2 Axes>"
      ]
     },
     "metadata": {},
     "output_type": "display_data"
    }
   ],
   "source": [
    "x=df.corr()\n",
    "sns.heatmap(x)\n",
    "plt.show()"
   ]
  },
  {
   "cell_type": "code",
   "execution_count": 9,
   "id": "6874ff3d",
   "metadata": {
    "execution": {
     "iopub.execute_input": "2024-07-02T16:49:11.216479Z",
     "iopub.status.busy": "2024-07-02T16:49:11.216056Z",
     "iopub.status.idle": "2024-07-02T16:49:11.368280Z",
     "shell.execute_reply": "2024-07-02T16:49:11.366179Z"
    },
    "papermill": {
     "duration": 0.177225,
     "end_time": "2024-07-02T16:49:11.373708",
     "exception": false,
     "start_time": "2024-07-02T16:49:11.196483",
     "status": "completed"
    },
    "tags": []
   },
   "outputs": [
    {
     "data": {
      "image/png": "[encoded data removed]",
      "text/plain": [
       "<Figure size 640x480 with 1 Axes>"
      ]
     },
     "metadata": {},
     "output_type": "display_data"
    }
   ],
   "source": [
    "x=df['Outcome'].value_counts()\n",
    "plt.pie(x,explode=[0, 0.1], autopct='%1.1f%%',labels=[0,1])\n",
    "plt.title(\"Outcome\")\n",
    "plt.show()"
   ]
  },
  {
   "cell_type": "code",
   "execution_count": 10,
   "id": "c3106443",
   "metadata": {
    "execution": {
     "iopub.execute_input": "2024-07-02T16:49:11.433822Z",
     "iopub.status.busy": "2024-07-02T16:49:11.433356Z",
     "iopub.status.idle": "2024-07-02T16:49:11.443956Z",
     "shell.execute_reply": "2024-07-02T16:49:11.442489Z"
    },
    "papermill": {
     "duration": 0.043852,
     "end_time": "2024-07-02T16:49:11.447645",
     "exception": false,
     "start_time": "2024-07-02T16:49:11.403793",
     "status": "completed"
    },
    "scrolled": true,
    "tags": []
   },
   "outputs": [
    {
     "name": "stdout",
     "output_type": "stream",
     "text": [
      "111  in  Pregnancies\n",
      "5  in  Glucose\n",
      "35  in  BloodPressure\n",
      "227  in  SkinThickness\n",
      "374  in  Insulin\n",
      "11  in  BMI\n",
      "0  in  DiabetesPedigreeFunction\n",
      "0  in  Age\n",
      "500  in  Outcome\n"
     ]
    }
   ],
   "source": [
    "x=df.columns\n",
    "for col in x:\n",
    "    num_zeros=df[col].eq(0).sum()\n",
    "    print(num_zeros,\" in \",col)\n",
    "    \n",
    "    "
   ]
  },
  {
   "cell_type": "markdown",
   "id": "528039a1",
   "metadata": {
    "papermill": {
     "duration": 0.014172,
     "end_time": "2024-07-02T16:49:11.476176",
     "exception": false,
     "start_time": "2024-07-02T16:49:11.462004",
     "status": "completed"
    },
    "tags": []
   },
   "source": [
    "> there no NaN values in the database but there are zereos values which can be consideard as a type of missing values in this contest"
   ]
  },
  {
   "cell_type": "code",
   "execution_count": 11,
   "id": "cf69a2a9",
   "metadata": {
    "execution": {
     "iopub.execute_input": "2024-07-02T16:49:11.507149Z",
     "iopub.status.busy": "2024-07-02T16:49:11.506079Z",
     "iopub.status.idle": "2024-07-02T16:49:11.555577Z",
     "shell.execute_reply": "2024-07-02T16:49:11.554192Z"
    },
    "papermill": {
     "duration": 0.067928,
     "end_time": "2024-07-02T16:49:11.558232",
     "exception": false,
     "start_time": "2024-07-02T16:49:11.490304",
     "status": "completed"
    },
    "tags": []
   },
   "outputs": [
    {
     "data": {
      "text/html": [
       "<div>\n",
       "<style scoped>\n",
       "    .dataframe tbody tr th:only-of-type {\n",
       "        vertical-align: middle;\n",
       "    }\n",
       "\n",
       "    .dataframe tbody tr th {\n",
       "        vertical-align: top;\n",
       "    }\n",
       "\n",
       "    .dataframe thead th {\n",
       "        text-align: right;\n",
       "    }\n",
       "</style>\n",
       "<table border=\"1\" class=\"dataframe\">\n",
       "  <thead>\n",
       "    <tr style=\"text-align: right;\">\n",
       "      <th></th>\n",
       "      <th>Pregnancies</th>\n",
       "      <th>Glucose</th>\n",
       "      <th>BloodPressure</th>\n",
       "      <th>SkinThickness</th>\n",
       "      <th>Insulin</th>\n",
       "      <th>BMI</th>\n",
       "      <th>DiabetesPedigreeFunction</th>\n",
       "      <th>Age</th>\n",
       "      <th>Outcome</th>\n",
       "    </tr>\n",
       "  </thead>\n",
       "  <tbody>\n",
       "    <tr>\n",
       "      <th>0</th>\n",
       "      <td>6</td>\n",
       "      <td>148</td>\n",
       "      <td>72</td>\n",
       "      <td>35</td>\n",
       "      <td>0</td>\n",
       "      <td>33.6</td>\n",
       "      <td>0.627</td>\n",
       "      <td>50</td>\n",
       "      <td>1</td>\n",
       "    </tr>\n",
       "    <tr>\n",
       "      <th>1</th>\n",
       "      <td>1</td>\n",
       "      <td>85</td>\n",
       "      <td>66</td>\n",
       "      <td>29</td>\n",
       "      <td>39</td>\n",
       "      <td>26.6</td>\n",
       "      <td>0.351</td>\n",
       "      <td>31</td>\n",
       "      <td>0</td>\n",
       "    </tr>\n",
       "    <tr>\n",
       "      <th>2</th>\n",
       "      <td>8</td>\n",
       "      <td>183</td>\n",
       "      <td>64</td>\n",
       "      <td>27</td>\n",
       "      <td>0</td>\n",
       "      <td>23.3</td>\n",
       "      <td>0.672</td>\n",
       "      <td>32</td>\n",
       "      <td>1</td>\n",
       "    </tr>\n",
       "    <tr>\n",
       "      <th>3</th>\n",
       "      <td>1</td>\n",
       "      <td>89</td>\n",
       "      <td>66</td>\n",
       "      <td>23</td>\n",
       "      <td>94</td>\n",
       "      <td>28.1</td>\n",
       "      <td>0.167</td>\n",
       "      <td>21</td>\n",
       "      <td>0</td>\n",
       "    </tr>\n",
       "    <tr>\n",
       "      <th>4</th>\n",
       "      <td>0</td>\n",
       "      <td>137</td>\n",
       "      <td>40</td>\n",
       "      <td>35</td>\n",
       "      <td>168</td>\n",
       "      <td>43.1</td>\n",
       "      <td>2.288</td>\n",
       "      <td>33</td>\n",
       "      <td>1</td>\n",
       "    </tr>\n",
       "    <tr>\n",
       "      <th>...</th>\n",
       "      <td>...</td>\n",
       "      <td>...</td>\n",
       "      <td>...</td>\n",
       "      <td>...</td>\n",
       "      <td>...</td>\n",
       "      <td>...</td>\n",
       "      <td>...</td>\n",
       "      <td>...</td>\n",
       "      <td>...</td>\n",
       "    </tr>\n",
       "    <tr>\n",
       "      <th>763</th>\n",
       "      <td>10</td>\n",
       "      <td>101</td>\n",
       "      <td>76</td>\n",
       "      <td>48</td>\n",
       "      <td>180</td>\n",
       "      <td>32.9</td>\n",
       "      <td>0.171</td>\n",
       "      <td>63</td>\n",
       "      <td>0</td>\n",
       "    </tr>\n",
       "    <tr>\n",
       "      <th>764</th>\n",
       "      <td>2</td>\n",
       "      <td>122</td>\n",
       "      <td>70</td>\n",
       "      <td>27</td>\n",
       "      <td>39</td>\n",
       "      <td>36.8</td>\n",
       "      <td>0.340</td>\n",
       "      <td>27</td>\n",
       "      <td>0</td>\n",
       "    </tr>\n",
       "    <tr>\n",
       "      <th>765</th>\n",
       "      <td>5</td>\n",
       "      <td>121</td>\n",
       "      <td>72</td>\n",
       "      <td>23</td>\n",
       "      <td>112</td>\n",
       "      <td>26.2</td>\n",
       "      <td>0.245</td>\n",
       "      <td>30</td>\n",
       "      <td>0</td>\n",
       "    </tr>\n",
       "    <tr>\n",
       "      <th>766</th>\n",
       "      <td>1</td>\n",
       "      <td>126</td>\n",
       "      <td>60</td>\n",
       "      <td>27</td>\n",
       "      <td>0</td>\n",
       "      <td>30.1</td>\n",
       "      <td>0.349</td>\n",
       "      <td>47</td>\n",
       "      <td>1</td>\n",
       "    </tr>\n",
       "    <tr>\n",
       "      <th>767</th>\n",
       "      <td>1</td>\n",
       "      <td>93</td>\n",
       "      <td>70</td>\n",
       "      <td>31</td>\n",
       "      <td>39</td>\n",
       "      <td>30.4</td>\n",
       "      <td>0.315</td>\n",
       "      <td>23</td>\n",
       "      <td>0</td>\n",
       "    </tr>\n",
       "  </tbody>\n",
       "</table>\n",
       "<p>768 rows × 9 columns</p>\n",
       "</div>"
      ],
      "text/plain": [
       "     Pregnancies  Glucose  BloodPressure  SkinThickness  Insulin   BMI  \\\n",
       "0              6      148             72             35        0  33.6   \n",
       "1              1       85             66             29       39  26.6   \n",
       "2              8      183             64             27        0  23.3   \n",
       "3              1       89             66             23       94  28.1   \n",
       "4              0      137             40             35      168  43.1   \n",
       "..           ...      ...            ...            ...      ...   ...   \n",
       "763           10      101             76             48      180  32.9   \n",
       "764            2      122             70             27       39  36.8   \n",
       "765            5      121             72             23      112  26.2   \n",
       "766            1      126             60             27        0  30.1   \n",
       "767            1       93             70             31       39  30.4   \n",
       "\n",
       "     DiabetesPedigreeFunction  Age  Outcome  \n",
       "0                       0.627   50        1  \n",
       "1                       0.351   31        0  \n",
       "2                       0.672   32        1  \n",
       "3                       0.167   21        0  \n",
       "4                       2.288   33        1  \n",
       "..                        ...  ...      ...  \n",
       "763                     0.171   63        0  \n",
       "764                     0.340   27        0  \n",
       "765                     0.245   30        0  \n",
       "766                     0.349   47        1  \n",
       "767                     0.315   23        0  \n",
       "\n",
       "[768 rows x 9 columns]"
      ]
     },
     "execution_count": 11,
     "metadata": {},
     "output_type": "execute_result"
    }
   ],
   "source": [
    "def filling_zeroes(df, cols): \n",
    "    for col in cols:\n",
    "        med = df.groupby('Outcome')[col].transform('median')\n",
    "        zero_mask = df[col] == 0\n",
    "        df.loc[zero_mask & (df['Outcome'] == 0), col] = med[zero_mask & (df['Outcome'] == 0)]\n",
    "        df.loc[zero_mask & (df['Outcome'] == 1), col] = med[zero_mask & (df['Outcome'] == 1)]\n",
    "    return df\n",
    "df = filling_zeroes(df.copy(), df.columns[1:8])\n",
    "df "
   ]
  },
  {
   "cell_type": "markdown",
   "id": "520a2dd5",
   "metadata": {
    "papermill": {
     "duration": 0.014637,
     "end_time": "2024-07-02T16:49:11.587700",
     "exception": false,
     "start_time": "2024-07-02T16:49:11.573063",
     "status": "completed"
    },
    "tags": []
   },
   "source": [
    "# Modeling"
   ]
  },
  {
   "cell_type": "code",
   "execution_count": 12,
   "id": "a026711d",
   "metadata": {
    "execution": {
     "iopub.execute_input": "2024-07-02T16:49:11.620539Z",
     "iopub.status.busy": "2024-07-02T16:49:11.620130Z",
     "iopub.status.idle": "2024-07-02T16:49:11.627634Z",
     "shell.execute_reply": "2024-07-02T16:49:11.626210Z"
    },
    "papermill": {
     "duration": 0.02785,
     "end_time": "2024-07-02T16:49:11.630527",
     "exception": false,
     "start_time": "2024-07-02T16:49:11.602677",
     "status": "completed"
    },
    "tags": []
   },
   "outputs": [],
   "source": [
    "featurs=df.drop('Outcome',axis=1)\n",
    "target=df['Outcome']"
   ]
  },
  {
   "cell_type": "code",
   "execution_count": 13,
   "id": "88057abd",
   "metadata": {
    "execution": {
     "iopub.execute_input": "2024-07-02T16:49:11.662816Z",
     "iopub.status.busy": "2024-07-02T16:49:11.661918Z",
     "iopub.status.idle": "2024-07-02T16:49:11.673756Z",
     "shell.execute_reply": "2024-07-02T16:49:11.672642Z"
    },
    "papermill": {
     "duration": 0.030742,
     "end_time": "2024-07-02T16:49:11.676199",
     "exception": false,
     "start_time": "2024-07-02T16:49:11.645457",
     "status": "completed"
    },
    "tags": []
   },
   "outputs": [],
   "source": [
    "stds=StandardScaler()\n",
    "featurs=pd.DataFrame(stds.fit_transform(featurs),columns=df.columns[0:8]  )"
   ]
  },
  {
   "cell_type": "code",
   "execution_count": 14,
   "id": "86a36d21",
   "metadata": {
    "execution": {
     "iopub.execute_input": "2024-07-02T16:49:11.707714Z",
     "iopub.status.busy": "2024-07-02T16:49:11.707263Z",
     "iopub.status.idle": "2024-07-02T16:49:11.719113Z",
     "shell.execute_reply": "2024-07-02T16:49:11.717831Z"
    },
    "papermill": {
     "duration": 0.030994,
     "end_time": "2024-07-02T16:49:11.721934",
     "exception": false,
     "start_time": "2024-07-02T16:49:11.690940",
     "status": "completed"
    },
    "tags": []
   },
   "outputs": [],
   "source": [
    "x_train,x_test,y_train,y_test =train_test_split(featurs,target,test_size=0.20,random_state=4)"
   ]
  },
  {
   "cell_type": "code",
   "execution_count": 15,
   "id": "e9f0ac2e",
   "metadata": {
    "execution": {
     "iopub.execute_input": "2024-07-02T16:49:11.753752Z",
     "iopub.status.busy": "2024-07-02T16:49:11.753300Z",
     "iopub.status.idle": "2024-07-02T16:49:11.778974Z",
     "shell.execute_reply": "2024-07-02T16:49:11.777255Z"
    },
    "papermill": {
     "duration": 0.044864,
     "end_time": "2024-07-02T16:49:11.781666",
     "exception": false,
     "start_time": "2024-07-02T16:49:11.736802",
     "status": "completed"
    },
    "tags": []
   },
   "outputs": [
    {
     "name": "stdout",
     "output_type": "stream",
     "text": [
      "Accuracy: 0.8051948051948052\n"
     ]
    }
   ],
   "source": [
    "lr = LogisticRegression(random_state=42,max_iter=17000)\n",
    "lr.fit(x_train, y_train)\n",
    "y_pred = lr.predict(x_test)\n",
    "accuracy = accuracy_score(y_test, y_pred)\n",
    "print(\"Accuracy:\", accuracy)"
   ]
  },
  {
   "cell_type": "markdown",
   "id": "e4258815",
   "metadata": {
    "papermill": {
     "duration": 0.0155,
     "end_time": "2024-07-02T16:49:11.812094",
     "exception": false,
     "start_time": "2024-07-02T16:49:11.796594",
     "status": "completed"
    },
    "tags": []
   },
   "source": [
    "# Playing With hyperparameters"
   ]
  },
  {
   "cell_type": "code",
   "execution_count": 16,
   "id": "411fd27d",
   "metadata": {
    "execution": {
     "iopub.execute_input": "2024-07-02T16:49:11.844384Z",
     "iopub.status.busy": "2024-07-02T16:49:11.843913Z",
     "iopub.status.idle": "2024-07-02T16:49:11.851576Z",
     "shell.execute_reply": "2024-07-02T16:49:11.850313Z"
    },
    "papermill": {
     "duration": 0.027024,
     "end_time": "2024-07-02T16:49:11.854224",
     "exception": false,
     "start_time": "2024-07-02T16:49:11.827200",
     "status": "completed"
    },
    "tags": []
   },
   "outputs": [],
   "source": [
    "def train_and_evaluate(C, solver):\n",
    "    lr = LogisticRegression(C=C, solver=solver, random_state=42)\n",
    "    lr.fit(x_train, y_train)\n",
    "\n",
    " \n",
    "    y_pred = lr.predict(x_test)\n",
    "\n",
    "\n",
    "    accuracy = accuracy_score(y_test, y_pred)\n",
    "    return accuracy\n"
   ]
  },
  {
   "cell_type": "code",
   "execution_count": 17,
   "id": "aed45f83",
   "metadata": {
    "execution": {
     "iopub.execute_input": "2024-07-02T16:49:11.887516Z",
     "iopub.status.busy": "2024-07-02T16:49:11.887104Z",
     "iopub.status.idle": "2024-07-02T16:49:12.224246Z",
     "shell.execute_reply": "2024-07-02T16:49:12.222853Z"
    },
    "papermill": {
     "duration": 0.357201,
     "end_time": "2024-07-02T16:49:12.226996",
     "exception": false,
     "start_time": "2024-07-02T16:49:11.869795",
     "status": "completed"
    },
    "tags": []
   },
   "outputs": [
    {
     "name": "stdout",
     "output_type": "stream",
     "text": [
      "C=1e-05  , solver='lbfgs'    : Accuracy = 0.6623376623376623\n",
      "C=1e-05  , solver='newton-cg'    : Accuracy = 0.6623376623376623\n",
      "C=1e-05  , solver='sag'    : Accuracy = 0.6623376623376623\n",
      "C=1e-05  , solver='liblinear'    : Accuracy = 0.7272727272727273\n",
      "C=0.0001  , solver='lbfgs'    : Accuracy = 0.6623376623376623\n",
      "C=0.0001  , solver='newton-cg'    : Accuracy = 0.6623376623376623\n",
      "C=0.0001  , solver='sag'    : Accuracy = 0.6623376623376623\n",
      "C=0.0001  , solver='liblinear'    : Accuracy = 0.7272727272727273\n",
      "C=0.001  , solver='lbfgs'    : Accuracy = 0.6558441558441559\n",
      "C=0.001  , solver='newton-cg'    : Accuracy = 0.6558441558441559\n",
      "C=0.001  , solver='sag'    : Accuracy = 0.6558441558441559\n",
      "C=0.001  , solver='liblinear'    : Accuracy = 0.7337662337662337\n",
      "C=0.01  , solver='lbfgs'    : Accuracy = 0.7922077922077922\n",
      "C=0.01  , solver='newton-cg'    : Accuracy = 0.7922077922077922\n",
      "C=0.01  , solver='sag'    : Accuracy = 0.7922077922077922\n",
      "C=0.01  , solver='liblinear'    : Accuracy = 0.7662337662337663\n",
      "C=0.1  , solver='lbfgs'    : Accuracy = 0.7987012987012987\n",
      "C=0.1  , solver='newton-cg'    : Accuracy = 0.7987012987012987\n",
      "C=0.1  , solver='sag'    : Accuracy = 0.7987012987012987\n",
      "C=0.1  , solver='liblinear'    : Accuracy = 0.7987012987012987\n",
      "C=1  , solver='lbfgs'    : Accuracy = 0.8051948051948052\n",
      "C=1  , solver='newton-cg'    : Accuracy = 0.8051948051948052\n",
      "C=1  , solver='sag'    : Accuracy = 0.8051948051948052\n",
      "C=1  , solver='liblinear'    : Accuracy = 0.8051948051948052\n",
      "C=10  , solver='lbfgs'    : Accuracy = 0.8051948051948052\n",
      "C=10  , solver='newton-cg'    : Accuracy = 0.8051948051948052\n",
      "C=10  , solver='sag'    : Accuracy = 0.8051948051948052\n",
      "C=10  , solver='liblinear'    : Accuracy = 0.8051948051948052\n",
      "C=100  , solver='lbfgs'    : Accuracy = 0.8051948051948052\n",
      "C=100  , solver='newton-cg'    : Accuracy = 0.8051948051948052\n",
      "C=100  , solver='sag'    : Accuracy = 0.8051948051948052\n",
      "C=100  , solver='liblinear'    : Accuracy = 0.8051948051948052\n",
      "C=1000  , solver='lbfgs'    : Accuracy = 0.8051948051948052\n",
      "C=1000  , solver='newton-cg'    : Accuracy = 0.8051948051948052\n",
      "C=1000  , solver='sag'    : Accuracy = 0.8051948051948052\n",
      "C=1000  , solver='liblinear'    : Accuracy = 0.8051948051948052\n",
      "C=10000  , solver='lbfgs'    : Accuracy = 0.8051948051948052\n",
      "C=10000  , solver='newton-cg'    : Accuracy = 0.8051948051948052\n",
      "C=10000  , solver='sag'    : Accuracy = 0.8051948051948052\n",
      "C=10000  , solver='liblinear'    : Accuracy = 0.8051948051948052\n"
     ]
    }
   ],
   "source": [
    "C_values = [0.00001,0.0001,0.001, 0.01, 0.1, 1, 10,100,1000,10000]\n",
    "solver_options = ['lbfgs', 'newton-cg','sag','liblinear']\n",
    "\n",
    "for C in C_values:\n",
    "      for solver in solver_options:\n",
    "        accuracy = train_and_evaluate(C, solver)\n",
    "        print(f\"C={C}  , solver='{solver}'    : Accuracy = {accuracy}\")\n"
   ]
  },
  {
   "cell_type": "code",
   "execution_count": 18,
   "id": "287518bb",
   "metadata": {
    "execution": {
     "iopub.execute_input": "2024-07-02T16:49:12.259672Z",
     "iopub.status.busy": "2024-07-02T16:49:12.259243Z",
     "iopub.status.idle": "2024-07-02T16:49:12.265131Z",
     "shell.execute_reply": "2024-07-02T16:49:12.263672Z"
    },
    "papermill": {
     "duration": 0.025523,
     "end_time": "2024-07-02T16:49:12.267855",
     "exception": false,
     "start_time": "2024-07-02T16:49:12.242332",
     "status": "completed"
    },
    "tags": []
   },
   "outputs": [],
   "source": [
    "rf=RandomForestClassifier()"
   ]
  },
  {
   "cell_type": "code",
   "execution_count": 19,
   "id": "e766a0d5",
   "metadata": {
    "execution": {
     "iopub.execute_input": "2024-07-02T16:49:12.301148Z",
     "iopub.status.busy": "2024-07-02T16:49:12.300727Z",
     "iopub.status.idle": "2024-07-02T16:49:12.593036Z",
     "shell.execute_reply": "2024-07-02T16:49:12.591919Z"
    },
    "papermill": {
     "duration": 0.312021,
     "end_time": "2024-07-02T16:49:12.595558",
     "exception": false,
     "start_time": "2024-07-02T16:49:12.283537",
     "status": "completed"
    },
    "tags": []
   },
   "outputs": [
    {
     "data": {
      "text/html": [
       "<style>#sk-container-id-1 {color: black;background-color: white;}#sk-container-id-1 pre{padding: 0;}#sk-container-id-1 div.sk-toggleable {background-color: white;}#sk-container-id-1 label.sk-toggleable__label {cursor: pointer;display: block;width: 100%;margin-bottom: 0;padding: 0.3em;box-sizing: border-box;text-align: center;}#sk-container-id-1 label.sk-toggleable__label-arrow:before {content: \"▸\";float: left;margin-right: 0.25em;color: #696969;}#sk-container-id-1 label.sk-toggleable__label-arrow:hover:before {color: black;}#sk-container-id-1 div.sk-estimator:hover label.sk-toggleable__label-arrow:before {color: black;}#sk-container-id-1 div.sk-toggleable__content {max-height: 0;max-width: 0;overflow: hidden;text-align: left;background-color: #f0f8ff;}#sk-container-id-1 div.sk-toggleable__content pre {margin: 0.2em;color: black;border-radius: 0.25em;background-color: #f0f8ff;}#sk-container-id-1 input.sk-toggleable__control:checked~div.sk-toggleable__content {max-height: 200px;max-width: 100%;overflow: auto;}#sk-container-id-1 input.sk-toggleable__control:checked~label.sk-toggleable__label-arrow:before {content: \"▾\";}#sk-container-id-1 div.sk-estimator input.sk-toggleable__control:checked~label.sk-toggleable__label {background-color: #d4ebff;}#sk-container-id-1 div.sk-label input.sk-toggleable__control:checked~label.sk-toggleable__label {background-color: #d4ebff;}#sk-container-id-1 input.sk-hidden--visually {border: 0;clip: rect(1px 1px 1px 1px);clip: rect(1px, 1px, 1px, 1px);height: 1px;margin: -1px;overflow: hidden;padding: 0;position: absolute;width: 1px;}#sk-container-id-1 div.sk-estimator {font-family: monospace;background-color: #f0f8ff;border: 1px dotted black;border-radius: 0.25em;box-sizing: border-box;margin-bottom: 0.5em;}#sk-container-id-1 div.sk-estimator:hover {background-color: #d4ebff;}#sk-container-id-1 div.sk-parallel-item::after {content: \"\";width: 100%;border-bottom: 1px solid gray;flex-grow: 1;}#sk-container-id-1 div.sk-label:hover label.sk-toggleable__label {background-color: #d4ebff;}#sk-container-id-1 div.sk-serial::before {content: \"\";position: absolute;border-left: 1px solid gray;box-sizing: border-box;top: 0;bottom: 0;left: 50%;z-index: 0;}#sk-container-id-1 div.sk-serial {display: flex;flex-direction: column;align-items: center;background-color: white;padding-right: 0.2em;padding-left: 0.2em;position: relative;}#sk-container-id-1 div.sk-item {position: relative;z-index: 1;}#sk-container-id-1 div.sk-parallel {display: flex;align-items: stretch;justify-content: center;background-color: white;position: relative;}#sk-container-id-1 div.sk-item::before, #sk-container-id-1 div.sk-parallel-item::before {content: \"\";position: absolute;border-left: 1px solid gray;box-sizing: border-box;top: 0;bottom: 0;left: 50%;z-index: -1;}#sk-container-id-1 div.sk-parallel-item {display: flex;flex-direction: column;z-index: 1;position: relative;background-color: white;}#sk-container-id-1 div.sk-parallel-item:first-child::after {align-self: flex-end;width: 50%;}#sk-container-id-1 div.sk-parallel-item:last-child::after {align-self: flex-start;width: 50%;}#sk-container-id-1 div.sk-parallel-item:only-child::after {width: 0;}#sk-container-id-1 div.sk-dashed-wrapped {border: 1px dashed gray;margin: 0 0.4em 0.5em 0.4em;box-sizing: border-box;padding-bottom: 0.4em;background-color: white;}#sk-container-id-1 div.sk-label label {font-family: monospace;font-weight: bold;display: inline-block;line-height: 1.2em;}#sk-container-id-1 div.sk-label-container {text-align: center;}#sk-container-id-1 div.sk-container {/* jupyter's `normalize.less` sets `[hidden] { display: none; }` but bootstrap.min.css set `[hidden] { display: none !important; }` so we also need the `!important` here to be able to override the default hidden behavior on the sphinx rendered scikit-learn.org. See: https://github.com/scikit-learn/scikit-learn/issues/21755 */display: inline-block !important;position: relative;}#sk-container-id-1 div.sk-text-repr-fallback {display: none;}</style><div id=\"sk-container-id-1\" class=\"sk-top-container\"><div class=\"sk-text-repr-fallback\"><pre>RandomForestClassifier()</pre><b>In a Jupyter environment, please rerun this cell to show the HTML representation or trust the notebook. <br />On GitHub, the HTML representation is unable to render, please try loading this page with nbviewer.org.</b></div><div class=\"sk-container\" hidden><div class=\"sk-item\"><div class=\"sk-estimator sk-toggleable\"><input class=\"sk-toggleable__control sk-hidden--visually\" id=\"sk-estimator-id-1\" type=\"checkbox\" checked><label for=\"sk-estimator-id-1\" class=\"sk-toggleable__label sk-toggleable__label-arrow\">RandomForestClassifier</label><div class=\"sk-toggleable__content\"><pre>RandomForestClassifier()</pre></div></div></div></div></div>"
      ],
      "text/plain": [
       "RandomForestClassifier()"
      ]
     },
     "execution_count": 19,
     "metadata": {},
     "output_type": "execute_result"
    }
   ],
   "source": [
    "rf.fit(x_train,y_train)"
   ]
  },
  {
   "cell_type": "code",
   "execution_count": 20,
   "id": "f34a5c46",
   "metadata": {
    "execution": {
     "iopub.execute_input": "2024-07-02T16:49:12.629515Z",
     "iopub.status.busy": "2024-07-02T16:49:12.629108Z",
     "iopub.status.idle": "2024-07-02T16:49:12.656772Z",
     "shell.execute_reply": "2024-07-02T16:49:12.655670Z"
    },
    "papermill": {
     "duration": 0.047939,
     "end_time": "2024-07-02T16:49:12.659231",
     "exception": false,
     "start_time": "2024-07-02T16:49:12.611292",
     "status": "completed"
    },
    "tags": []
   },
   "outputs": [
    {
     "data": {
      "text/plain": [
       "1.0"
      ]
     },
     "execution_count": 20,
     "metadata": {},
     "output_type": "execute_result"
    }
   ],
   "source": [
    "rf.score(x_train,y_train)"
   ]
  },
  {
   "cell_type": "code",
   "execution_count": 21,
   "id": "edb89393",
   "metadata": {
    "execution": {
     "iopub.execute_input": "2024-07-02T16:49:12.692624Z",
     "iopub.status.busy": "2024-07-02T16:49:12.692190Z",
     "iopub.status.idle": "2024-07-02T16:49:12.712611Z",
     "shell.execute_reply": "2024-07-02T16:49:12.711125Z"
    },
    "papermill": {
     "duration": 0.040693,
     "end_time": "2024-07-02T16:49:12.715532",
     "exception": false,
     "start_time": "2024-07-02T16:49:12.674839",
     "status": "completed"
    },
    "tags": []
   },
   "outputs": [],
   "source": [
    "rf_acc=rf.score(x_test,y_test)"
   ]
  },
  {
   "cell_type": "code",
   "execution_count": 22,
   "id": "9d1d6fd2",
   "metadata": {
    "execution": {
     "iopub.execute_input": "2024-07-02T16:49:12.749408Z",
     "iopub.status.busy": "2024-07-02T16:49:12.749009Z",
     "iopub.status.idle": "2024-07-02T16:49:12.762703Z",
     "shell.execute_reply": "2024-07-02T16:49:12.761411Z"
    },
    "papermill": {
     "duration": 0.033711,
     "end_time": "2024-07-02T16:49:12.765487",
     "exception": false,
     "start_time": "2024-07-02T16:49:12.731776",
     "status": "completed"
    },
    "tags": []
   },
   "outputs": [
    {
     "data": {
      "text/html": [
       "<style>#sk-container-id-2 {color: black;background-color: white;}#sk-container-id-2 pre{padding: 0;}#sk-container-id-2 div.sk-toggleable {background-color: white;}#sk-container-id-2 label.sk-toggleable__label {cursor: pointer;display: block;width: 100%;margin-bottom: 0;padding: 0.3em;box-sizing: border-box;text-align: center;}#sk-container-id-2 label.sk-toggleable__label-arrow:before {content: \"▸\";float: left;margin-right: 0.25em;color: #696969;}#sk-container-id-2 label.sk-toggleable__label-arrow:hover:before {color: black;}#sk-container-id-2 div.sk-estimator:hover label.sk-toggleable__label-arrow:before {color: black;}#sk-container-id-2 div.sk-toggleable__content {max-height: 0;max-width: 0;overflow: hidden;text-align: left;background-color: #f0f8ff;}#sk-container-id-2 div.sk-toggleable__content pre {margin: 0.2em;color: black;border-radius: 0.25em;background-color: #f0f8ff;}#sk-container-id-2 input.sk-toggleable__control:checked~div.sk-toggleable__content {max-height: 200px;max-width: 100%;overflow: auto;}#sk-container-id-2 input.sk-toggleable__control:checked~label.sk-toggleable__label-arrow:before {content: \"▾\";}#sk-container-id-2 div.sk-estimator input.sk-toggleable__control:checked~label.sk-toggleable__label {background-color: #d4ebff;}#sk-container-id-2 div.sk-label input.sk-toggleable__control:checked~label.sk-toggleable__label {background-color: #d4ebff;}#sk-container-id-2 input.sk-hidden--visually {border: 0;clip: rect(1px 1px 1px 1px);clip: rect(1px, 1px, 1px, 1px);height: 1px;margin: -1px;overflow: hidden;padding: 0;position: absolute;width: 1px;}#sk-container-id-2 div.sk-estimator {font-family: monospace;background-color: #f0f8ff;border: 1px dotted black;border-radius: 0.25em;box-sizing: border-box;margin-bottom: 0.5em;}#sk-container-id-2 div.sk-estimator:hover {background-color: #d4ebff;}#sk-container-id-2 div.sk-parallel-item::after {content: \"\";width: 100%;border-bottom: 1px solid gray;flex-grow: 1;}#sk-container-id-2 div.sk-label:hover label.sk-toggleable__label {background-color: #d4ebff;}#sk-container-id-2 div.sk-serial::before {content: \"\";position: absolute;border-left: 1px solid gray;box-sizing: border-box;top: 0;bottom: 0;left: 50%;z-index: 0;}#sk-container-id-2 div.sk-serial {display: flex;flex-direction: column;align-items: center;background-color: white;padding-right: 0.2em;padding-left: 0.2em;position: relative;}#sk-container-id-2 div.sk-item {position: relative;z-index: 1;}#sk-container-id-2 div.sk-parallel {display: flex;align-items: stretch;justify-content: center;background-color: white;position: relative;}#sk-container-id-2 div.sk-item::before, #sk-container-id-2 div.sk-parallel-item::before {content: \"\";position: absolute;border-left: 1px solid gray;box-sizing: border-box;top: 0;bottom: 0;left: 50%;z-index: -1;}#sk-container-id-2 div.sk-parallel-item {display: flex;flex-direction: column;z-index: 1;position: relative;background-color: white;}#sk-container-id-2 div.sk-parallel-item:first-child::after {align-self: flex-end;width: 50%;}#sk-container-id-2 div.sk-parallel-item:last-child::after {align-self: flex-start;width: 50%;}#sk-container-id-2 div.sk-parallel-item:only-child::after {width: 0;}#sk-container-id-2 div.sk-dashed-wrapped {border: 1px dashed gray;margin: 0 0.4em 0.5em 0.4em;box-sizing: border-box;padding-bottom: 0.4em;background-color: white;}#sk-container-id-2 div.sk-label label {font-family: monospace;font-weight: bold;display: inline-block;line-height: 1.2em;}#sk-container-id-2 div.sk-label-container {text-align: center;}#sk-container-id-2 div.sk-container {/* jupyter's `normalize.less` sets `[hidden] { display: none; }` but bootstrap.min.css set `[hidden] { display: none !important; }` so we also need the `!important` here to be able to override the default hidden behavior on the sphinx rendered scikit-learn.org. See: https://github.com/scikit-learn/scikit-learn/issues/21755 */display: inline-block !important;position: relative;}#sk-container-id-2 div.sk-text-repr-fallback {display: none;}</style><div id=\"sk-container-id-2\" class=\"sk-top-container\"><div class=\"sk-text-repr-fallback\"><pre>LogisticRegression(C=1.1, penalty=&#x27;l1&#x27;, random_state=42, solver=&#x27;liblinear&#x27;)</pre><b>In a Jupyter environment, please rerun this cell to show the HTML representation or trust the notebook. <br />On GitHub, the HTML representation is unable to render, please try loading this page with nbviewer.org.</b></div><div class=\"sk-container\" hidden><div class=\"sk-item\"><div class=\"sk-estimator sk-toggleable\"><input class=\"sk-toggleable__control sk-hidden--visually\" id=\"sk-estimator-id-2\" type=\"checkbox\" checked><label for=\"sk-estimator-id-2\" class=\"sk-toggleable__label sk-toggleable__label-arrow\">LogisticRegression</label><div class=\"sk-toggleable__content\"><pre>LogisticRegression(C=1.1, penalty=&#x27;l1&#x27;, random_state=42, solver=&#x27;liblinear&#x27;)</pre></div></div></div></div></div>"
      ],
      "text/plain": [
       "LogisticRegression(C=1.1, penalty='l1', random_state=42, solver='liblinear')"
      ]
     },
     "execution_count": 22,
     "metadata": {},
     "output_type": "execute_result"
    }
   ],
   "source": [
    "clf = LogisticRegression(C=1.10, penalty='l1', solver='liblinear', random_state=42)\n",
    "clf.fit(x_train, y_train)"
   ]
  },
  {
   "cell_type": "code",
   "execution_count": 23,
   "id": "ef98ba90",
   "metadata": {
    "execution": {
     "iopub.execute_input": "2024-07-02T16:49:12.798982Z",
     "iopub.status.busy": "2024-07-02T16:49:12.798562Z",
     "iopub.status.idle": "2024-07-02T16:49:12.805985Z",
     "shell.execute_reply": "2024-07-02T16:49:12.804697Z"
    },
    "papermill": {
     "duration": 0.027197,
     "end_time": "2024-07-02T16:49:12.808661",
     "exception": false,
     "start_time": "2024-07-02T16:49:12.781464",
     "status": "completed"
    },
    "tags": []
   },
   "outputs": [],
   "source": [
    "y_pred2 = clf.predict(x_test)"
   ]
  },
  {
   "cell_type": "code",
   "execution_count": 24,
   "id": "470e34a2",
   "metadata": {
    "execution": {
     "iopub.execute_input": "2024-07-02T16:49:12.842728Z",
     "iopub.status.busy": "2024-07-02T16:49:12.842324Z",
     "iopub.status.idle": "2024-07-02T16:49:12.849217Z",
     "shell.execute_reply": "2024-07-02T16:49:12.847965Z"
    },
    "papermill": {
     "duration": 0.027426,
     "end_time": "2024-07-02T16:49:12.852509",
     "exception": false,
     "start_time": "2024-07-02T16:49:12.825083",
     "status": "completed"
    },
    "tags": []
   },
   "outputs": [],
   "source": [
    "lr_acc = accuracy_score(y_test, y_pred2)"
   ]
  },
  {
   "cell_type": "code",
   "execution_count": 25,
   "id": "c1f8cf8b",
   "metadata": {
    "execution": {
     "iopub.execute_input": "2024-07-02T16:49:12.887943Z",
     "iopub.status.busy": "2024-07-02T16:49:12.887439Z",
     "iopub.status.idle": "2024-07-02T16:49:12.893335Z",
     "shell.execute_reply": "2024-07-02T16:49:12.892166Z"
    },
    "papermill": {
     "duration": 0.026512,
     "end_time": "2024-07-02T16:49:12.896216",
     "exception": false,
     "start_time": "2024-07-02T16:49:12.869704",
     "status": "completed"
    },
    "tags": []
   },
   "outputs": [],
   "source": [
    "arr=[rf_acc*100,lr_acc*100]"
   ]
  },
  {
   "cell_type": "code",
   "execution_count": 26,
   "id": "300cbbb2",
   "metadata": {
    "execution": {
     "iopub.execute_input": "2024-07-02T16:49:12.930284Z",
     "iopub.status.busy": "2024-07-02T16:49:12.929797Z",
     "iopub.status.idle": "2024-07-02T16:49:13.167374Z",
     "shell.execute_reply": "2024-07-02T16:49:13.166045Z"
    },
    "papermill": {
     "duration": 0.257513,
     "end_time": "2024-07-02T16:49:13.169817",
     "exception": false,
     "start_time": "2024-07-02T16:49:12.912304",
     "status": "completed"
    },
    "tags": []
   },
   "outputs": [
    {
     "name": "stderr",
     "output_type": "stream",
     "text": [
      "/opt/conda/lib/python3.10/site-packages/seaborn/_oldcore.py:1765: FutureWarning: unique with argument that is not not a Series, Index, ExtensionArray, or np.ndarray is deprecated and will raise in a future version.\n",
      "  order = pd.unique(vector)\n"
     ]
    },
    {
     "data": {
      "image/png": "[encoded data removed]",
      "text/plain": [
       "<Figure size 640x480 with 1 Axes>"
      ]
     },
     "metadata": {},
     "output_type": "display_data"
    }
   ],
   "source": [
    "sns.barplot(y=arr,x=['Random forest','Logistic regression'])\n",
    "plt.title(\"Different algorithms' accuracy\")\n",
    "plt.show()"
   ]
  },
  {
   "cell_type": "markdown",
   "id": "8257d076",
   "metadata": {
    "papermill": {
     "duration": 0.01604,
     "end_time": "2024-07-02T16:49:13.202768",
     "exception": false,
     "start_time": "2024-07-02T16:49:13.186728",
     "status": "completed"
    },
    "tags": []
   },
   "source": [
    "# Doaa Helal"
   ]
  }
 ],
 "metadata": {
  "kaggle": {
   "accelerator": "none",
   "dataSources": [
    {
     "datasetId": 228,
     "sourceId": 482,
     "sourceType": "datasetVersion"
    }
   ],
   "dockerImageVersionId": 30732,
   "isGpuEnabled": false,
   "isInternetEnabled": true,
   "language": "python",
   "sourceType": "notebook"
  },
  "kernelspec": {
   "display_name": "Python 3",
   "language": "python",
   "name": "python3"
  },
  "language_info": {
   "codemirror_mode": {
    "name": "ipython",
    "version": 3
   },
   "file_extension": ".py",
   "mimetype": "text/x-python",
   "name": "python",
   "nbconvert_exporter": "python",
   "pygments_lexer": "ipython3",
   "version": "3.10.13"
  },
  "papermill": {
   "default_parameters": {},
   "duration": 11.566053,
   "end_time": "2024-07-02T16:49:14.044285",
   "environment_variables": {},
   "exception": null,
   "input_path": "__notebook__.ipynb",
   "output_path": "__notebook__.ipynb",
   "parameters": {},
   "start_time": "2024-07-02T16:49:02.478232",
   "version": "2.5.0"
  }
 },
 "nbformat": 4,
 "nbformat_minor": 5
}